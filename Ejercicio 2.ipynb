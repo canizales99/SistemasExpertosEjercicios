{
 "cells": [
  {
   "cell_type": "code",
   "execution_count": 11,
   "metadata": {},
   "outputs": [],
   "source": [
    "import time\n",
    "import numpy as np\n",
    "import collections\n",
    "from collections import Counter"
   ]
  },
  {
   "cell_type": "code",
   "execution_count": 22,
   "metadata": {},
   "outputs": [],
   "source": [
    "with open('libros_24_meses.txt') as f:\n",
    "    periodo24_ventas_libros = f.read().split('\\n')\n",
    "    \n",
    "with open('catalogo_libros.txt') as f:\n",
    "    catalogo_libros = f.read().split('\\n')"
   ]
  },
  {
   "cell_type": "markdown",
   "metadata": {},
   "source": [
    "opcion 1: nos deshacemos del for y utilizamos una funcion de 'collections' llamada 'counter'."
   ]
  },
  {
   "cell_type": "code",
   "execution_count": 36,
   "metadata": {
    "scrolled": true
   },
   "outputs": [
    {
     "name": "stdout",
     "output_type": "stream",
     "text": [
      "96\n",
      "Duracion: 0.02156805992126465 segundos\n"
     ]
    }
   ],
   "source": [
    "\n",
    "inicio = time.time()\n",
    "libros_vendidos = list(set(periodo24_ventas_libros) & set(catalogo_libros))\n",
    "c=Counter(libros_vendidos)\n",
    "print(len(c))\n",
    "print('Duracion: {} segundos'.format(time.time() - inicio))"
   ]
  },
  {
   "cell_type": "markdown",
   "metadata": {},
   "source": [
    "opcion 2: utilizamos el ampersand '&' para establecer que buscamos los elementos en comun en ambas \"listas\"."
   ]
  },
  {
   "cell_type": "code",
   "execution_count": 34,
   "metadata": {},
   "outputs": [
    {
     "name": "stdout",
     "output_type": "stream",
     "text": [
      "96\n",
      "Duracion: 0.021006107330322266 segundos\n"
     ]
    }
   ],
   "source": [
    "inicio = time.time()\n",
    "print(len(set(periodo24_ventas_libros) & set(catalogo_libros)))\n",
    "print('Duracion: {} segundos'.format(time.time() - inicio))"
   ]
  },
  {
   "cell_type": "code",
   "execution_count": null,
   "metadata": {},
   "outputs": [],
   "source": []
  }
 ],
 "metadata": {
  "kernelspec": {
   "display_name": "Python 3",
   "language": "python",
   "name": "python3"
  },
  "language_info": {
   "codemirror_mode": {
    "name": "ipython",
    "version": 3
   },
   "file_extension": ".py",
   "mimetype": "text/x-python",
   "name": "python",
   "nbconvert_exporter": "python",
   "pygments_lexer": "ipython3",
   "version": "3.8.5"
  }
 },
 "nbformat": 4,
 "nbformat_minor": 4
}
