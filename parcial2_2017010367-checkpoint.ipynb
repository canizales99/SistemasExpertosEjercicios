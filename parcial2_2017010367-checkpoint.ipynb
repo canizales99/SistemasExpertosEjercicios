{
 "cells": [
  {
   "cell_type": "code",
   "execution_count": 1,
   "metadata": {},
   "outputs": [],
   "source": [
    "import numpy as np\n",
    "import time"
   ]
  },
  {
   "cell_type": "code",
   "execution_count": 2,
   "metadata": {},
   "outputs": [],
   "source": [
    "#a traves de esta caracteristica de la libreria de numpy logramos establecer numeros al azar\n",
    "al_azar= np.random.normal(500, 30, 10000000)\n",
    "inicio = time.time()"
   ]
  },
  {
   "cell_type": "code",
   "execution_count": 3,
   "metadata": {},
   "outputs": [],
   "source": [
    "lista_vacia=[]"
   ]
  },
  {
   "cell_type": "code",
   "execution_count": 4,
   "metadata": {},
   "outputs": [
    {
     "name": "stdout",
     "output_type": "stream",
     "text": [
      "El total de la inversion es:  $ 4999936758.800476\n",
      "Duracion: 0.45610952377319336 segundos\n"
     ]
    }
   ],
   "source": [
    "inicio =time.time()\n",
    "array_al_azar = np.array(al_azar)\n",
    "lista_vacia_suma = array_al_azar[array_al_azar <= 500000]\n",
    "lista_vacia_suma = np.sum(lista_vacia_suma)\n",
    "print ('El total de la inversion es: ', '$',lista_vacia_suma)\n",
    "print ('Duracion: {} segundos'.format(time.time() - inicio))"
   ]
  },
  {
   "cell_type": "code",
   "execution_count": null,
   "metadata": {},
   "outputs": [],
   "source": []
  }
 ],
 "metadata": {
  "kernelspec": {
   "display_name": "Python 3",
   "language": "python",
   "name": "python3"
  },
  "language_info": {
   "codemirror_mode": {
    "name": "ipython",
    "version": 3
   },
   "file_extension": ".py",
   "mimetype": "text/x-python",
   "name": "python",
   "nbconvert_exporter": "python",
   "pygments_lexer": "ipython3",
   "version": "3.8.5"
  }
 },
 "nbformat": 4,
 "nbformat_minor": 4
}
